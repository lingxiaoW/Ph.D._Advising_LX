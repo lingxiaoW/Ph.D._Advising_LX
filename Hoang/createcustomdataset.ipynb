{
  "nbformat": 4,
  "nbformat_minor": 0,
  "metadata": {
    "colab": {
      "provenance": [],
      "authorship_tag": "ABX9TyOkjN03oogN39LOYxUbqASS",
      "include_colab_link": true
    },
    "kernelspec": {
      "name": "python3",
      "display_name": "Python 3"
    },
    "language_info": {
      "name": "python"
    }
  },
  "cells": [
    {
      "cell_type": "markdown",
      "metadata": {
        "id": "view-in-github",
        "colab_type": "text"
      },
      "source": [
        "<a href=\"https://colab.research.google.com/github/lingxiaoW/Ph.D._Advising_LX/blob/main/Hoang/createcustomdataset.ipynb\" target=\"_parent\"><img src=\"https://colab.research.google.com/assets/colab-badge.svg\" alt=\"Open In Colab\"/></a>"
      ]
    },
    {
      "cell_type": "markdown",
      "source": [
        "**Load and Preprocessing CSV file**"
      ],
      "metadata": {
        "id": "3ye2-jgem_1s"
      }
    },
    {
      "cell_type": "code",
      "execution_count": null,
      "metadata": {
        "id": "568gJOtDh_8d"
      },
      "outputs": [],
      "source": [
        "import pandas as pd\n",
        "import numpy as np\n",
        "import torch\n",
        "from torch.utils.data import Dataset, DataLoader\n",
        "\n",
        "#load the CSV file\n",
        "file_path = 'path/to/your/file.csv'\n",
        "data = pd.read_csv(file_path)\n",
        "\n",
        "#assume the time series data is in a column named 'value'\n",
        "time_series = data['value'].values.astype(np.float32)\n",
        "\n",
        "#handling missing value (if any)\n",
        "time_series = time_series[~np.isnan(time_series)]\n",
        "\n",
        "#normalize the data (important for neural networks)\n",
        "mean = np.mean(time_series)\n",
        "std = np.std(time_series)\n",
        "time_series = (time_series - mean) / std   #standard scaling"
      ]
    },
    {
      "cell_type": "markdown",
      "source": [
        "**Create sequence for Time series**"
      ],
      "metadata": {
        "id": "5Pg_OCOJaDGD"
      }
    },
    {
      "cell_type": "code",
      "source": [
        "def create_sequence(data, window_size):\n",
        "    x, y = [], []\n",
        "    for i in range(len(data)):\n",
        "        #find the end of this pattern\n",
        "        end_ix = i + window_size\n",
        "        #check if we are beyond the sequence\n",
        "        if end_ix > len(data)-1:\n",
        "            break\n",
        "        #gather input and output parts of the pattern\n",
        "        seq_x, seq_y = data[i:end_ix], data[end_ix]\n",
        "        x.append(seq_x)\n",
        "        y.append(seq_y)\n",
        "    return array(x), array(y)\n",
        "\n",
        "window_size = 4\n",
        "#split into samples\n",
        "x, y = create_sequence(data, window_size)\n",
        "#summarize the data\n",
        "for i in range(len(x)):\n",
        "  print(x[i], y[i])"
      ],
      "metadata": {
        "id": "aRsiftCAaDZk"
      },
      "execution_count": null,
      "outputs": []
    },
    {
      "cell_type": "markdown",
      "source": [
        "**Create custom PyTorch Dataset**"
      ],
      "metadata": {
        "id": "1DkN5hA-KOVy"
      }
    },
    {
      "cell_type": "code",
      "source": [
        "import torch\n",
        "from torch.utils.data import Dataset\n",
        "\n",
        "class TimeSeriesDataset(Dataset):\n",
        "  def __init__(self, x, y):\n",
        "    self.x = torch.tensor(x, dtype=torch.float32)\n",
        "    self.y = torch.tensor(y, dtype=torch.float32)\n",
        "\n",
        "  def __len__(self):\n",
        "    return len(self.x)\n",
        "\n",
        "  def __getitem__(self, idx):\n",
        "    return self.x[idx], self.y[idx]\n",
        "#create the dataset\n",
        "dataset = TimeSeriesDataset(x, y)"
      ],
      "metadata": {
        "id": "dZNKkHp8Oacw"
      },
      "execution_count": null,
      "outputs": []
    },
    {
      "cell_type": "markdown",
      "source": [
        "**Split the Data into Training and Testing sets**"
      ],
      "metadata": {
        "id": "3OeHv38ga__E"
      }
    },
    {
      "cell_type": "code",
      "source": [
        "from torch.utils.data import random_split\n",
        "\n",
        "train_size = int(0.8 * len(dataset))\n",
        "test_size = len(dataset) - train_size\n",
        "train_dataset, test_dataset = random_split(dataset, [train_size, test_size])\n",
        "\n",
        "#create DataLoader\n",
        "batch_size = 32\n",
        "train_loader = DataLoader(train_dataset, batch_size=batch_size, shuffle=True)\n",
        "test_loader = DataLoader(test_dataset, batch_size=batch_size, shuffle=False)"
      ],
      "metadata": {
        "id": "lVZpkU7RbAWY"
      },
      "execution_count": null,
      "outputs": []
    },
    {
      "cell_type": "code",
      "source": [],
      "metadata": {
        "id": "e-GB3mgjbxka"
      },
      "execution_count": null,
      "outputs": []
    }
  ]
}